{
  "nbformat": 4,
  "nbformat_minor": 0,
  "metadata": {
    "colab": {
      "provenance": []
    },
    "kernelspec": {
      "name": "python3",
      "display_name": "Python 3"
    },
    "language_info": {
      "name": "python"
    }
  },
  "cells": [
    {
      "cell_type": "markdown",
      "source": [
        "* **Utilize o comando 'input' para receber ao menos\n",
        "2 números de entrada do usuário;**\n",
        "\n",
        "* **Converta os valores recebidos pelo usuário para número inteiro (int) ou ponto flutuante (float);**\n",
        "\n",
        "* **Implemente ao menos 4 operações matemáticas em seu código;**\n",
        "\n",
        "* **Adicione um laço de repetição ou uma condicional. Por exemplo: você pode permitir que o usuário escolha qual operação realizar ou criar um loop que permita ao usuário realizar várias operações consecutivas;**\n",
        "\n",
        "* **Utilize o comando 'print' para exibir o resultado da operação matemática.**"
      ],
      "metadata": {
        "id": "d2u3YrQUH8yc"
      }
    },
    {
      "cell_type": "code",
      "execution_count": 9,
      "metadata": {
        "id": "-PczwkhMMB5N",
        "colab": {
          "base_uri": "https://localhost:8080/"
        },
        "outputId": "48882097-c59b-482e-bdb9-c9e95e7c745b"
      },
      "outputs": [
        {
          "name": "stdout",
          "output_type": "stream",
          "text": [
            "Digite o primeiro número: 6\n",
            "Digite o segundo número: 7\n",
            "Digite a operação   (+, -, *, /): +\n",
            "Resultado: 13.0\n",
            "Deseja continuar? (s/n): n\n"
          ]
        }
      ],
      "source": [
        "def calculadora():\n",
        "    while True:\n",
        "        num1 = float(input(\"Digite o primeiro número: \"))\n",
        "        num2 = float(input(\"Digite o segundo número: \"))\n",
        "        operacao = input(\"Digite a operação   (+, -, *, /): \")\n",
        "\n",
        "        if operacao == '+':\n",
        "            resultado = num1 + num2\n",
        "        elif operacao == '-':\n",
        "            resultado = num1 - num2\n",
        "        elif operacao == '*':\n",
        "            resultado = num1 * num2\n",
        "        elif operacao == '/':\n",
        "            if num2 == 0:\n",
        "                print(\"Erro:.\")\n",
        "            else:\n",
        "                resultado = num1 / num2\n",
        "        else:\n",
        "            print(\"Operação inválida.\")\n",
        "            continue\n",
        "\n",
        "        print(\"Resultado:\", resultado)\n",
        "\n",
        "        continuar = input(\"Deseja continuar? (s/n): \")\n",
        "        if continuar.lower() != 's':\n",
        "            break\n",
        "\n",
        "calculadora()"
      ]
    },
    {
      "cell_type": "code",
      "source": [],
      "metadata": {
        "id": "u00gUR8oJchl"
      },
      "execution_count": null,
      "outputs": []
    }
  ]
}